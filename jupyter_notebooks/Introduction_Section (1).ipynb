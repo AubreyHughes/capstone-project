{
 "cells": [
  {
   "cell_type": "markdown",
   "metadata": {},
   "source": [
    "**Introduction/Business Problem**"
   ]
  },
  {
   "cell_type": "markdown",
   "metadata": {},
   "source": [
    "A few friends have recently started an Iranian restaurant in Frisco, TX, which is a suburb located outside of Dallas, TX. The restaurant has done very well and they have begun thinking about trying to expand into the Dallas area. They are confident that the restaurant can do equally as well if not better in the Dallas area. However, this type of branching out would be a very big leap for the company and is critical to their success. However, if the new restaurant fails, this could be detrimental to their original restaurant and possibly cause it to take severe losses or even close down.\n",
    "\n",
    "Due to the magnitude of this decision, the group wants to do everything they can to make sure they are absolutely confident about opening up the new store. One of the most important tasks with opening up a new store is figuring out the location of this new store. They would like to have a quick, efficient, and overall smart way to find a good location to possibly place the new store. Traditional ways of trying to find a suitable area may take too long or may not be as accurate (contacting a real estate agent, checking local listings, etc). So the group decided to reach out to a data scientist to help them find the best location for the new store.\n",
    "\n",
    "The way to find the best location for the store is to classify areas in Dallas as \"clusters\" based on similar traits. Features such as types of venues and most popular venues in these areas will help the group identify similar neighborhoods, which will then help the group decide which area is more suitable for the new restaurant. From there, they can decide on specific locations."
   ]
  },
  {
   "cell_type": "code",
   "execution_count": null,
   "metadata": {},
   "outputs": [],
   "source": []
  }
 ],
 "metadata": {
  "kernelspec": {
   "display_name": "Python 3",
   "language": "python",
   "name": "python3"
  },
  "language_info": {
   "codemirror_mode": {
    "name": "ipython",
    "version": 3
   },
   "file_extension": ".py",
   "mimetype": "text/x-python",
   "name": "python",
   "nbconvert_exporter": "python",
   "pygments_lexer": "ipython3",
   "version": "3.6.8"
  }
 },
 "nbformat": 4,
 "nbformat_minor": 2
}
